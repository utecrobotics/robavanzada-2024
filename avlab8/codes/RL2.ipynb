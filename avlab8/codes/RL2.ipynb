{
 "cells": [
  {
   "cell_type": "code",
   "execution_count": 1,
   "metadata": {
    "executionInfo": {
     "elapsed": 17,
     "status": "ok",
     "timestamp": 1666887574170,
     "user": {
      "displayName": "Alexander Lopez",
      "userId": "12846649391182977718"
     },
     "user_tz": 300
    },
    "id": "dN_LVk69ZUg_"
   },
   "outputs": [],
   "source": [
    "import gym\n",
    "import time\n",
    "import random\n",
    "import numpy as np\n",
    "from IPython.display import clear_output"
   ]
  },
  {
   "cell_type": "code",
   "execution_count": 2,
   "metadata": {
    "colab": {
     "base_uri": "https://localhost:8080/"
    },
    "executionInfo": {
     "elapsed": 15,
     "status": "ok",
     "timestamp": 1666887574170,
     "user": {
      "displayName": "Alexander Lopez",
      "userId": "12846649391182977718"
     },
     "user_tz": 300
    },
    "id": "5JwADQSmhaQC",
    "outputId": "db0e1759-98df-44ed-83e8-8abb1226a351"
   },
   "outputs": [
    {
     "name": "stderr",
     "output_type": "stream",
     "text": [
      "/usr/local/lib/python3.7/dist-packages/gym/core.py:318: DeprecationWarning: \u001b[33mWARN: Initializing wrapper in old step API which returns one bool instead of two. It is recommended to set `new_step_api=True` to use new step API. This will be the default behaviour in future.\u001b[0m\n",
      "  \"Initializing wrapper in old step API which returns one bool instead of two. It is recommended to set `new_step_api=True` to use new step API. This will be the default behaviour in future.\"\n",
      "/usr/local/lib/python3.7/dist-packages/gym/wrappers/step_api_compatibility.py:40: DeprecationWarning: \u001b[33mWARN: Initializing environment in old step API which returns one bool instead of two. It is recommended to set `new_step_api=True` to use new step API. This will be the default behaviour in future.\u001b[0m\n",
      "  \"Initializing environment in old step API which returns one bool instead of two. It is recommended to set `new_step_api=True` to use new step API. This will be the default behaviour in future.\"\n"
     ]
    }
   ],
   "source": [
    "env = gym.make(\"FrozenLake-v1\")"
   ]
  },
  {
   "cell_type": "code",
   "execution_count": 3,
   "metadata": {
    "executionInfo": {
     "elapsed": 11,
     "status": "ok",
     "timestamp": 1666887574171,
     "user": {
      "displayName": "Alexander Lopez",
      "userId": "12846649391182977718"
     },
     "user_tz": 300
    },
    "id": "IYzDFI1cMpxq"
   },
   "outputs": [],
   "source": [
    "action_space_size = env.action_space.n\n",
    "state_space_size = env.observation_space.n"
   ]
  },
  {
   "cell_type": "code",
   "execution_count": 4,
   "metadata": {
    "colab": {
     "base_uri": "https://localhost:8080/"
    },
    "executionInfo": {
     "elapsed": 10,
     "status": "ok",
     "timestamp": 1666887574171,
     "user": {
      "displayName": "Alexander Lopez",
      "userId": "12846649391182977718"
     },
     "user_tz": 300
    },
    "id": "pm6NB219iOn9",
    "outputId": "adc390eb-eacc-4383-818c-6e01d40578ec"
   },
   "outputs": [
    {
     "name": "stdout",
     "output_type": "stream",
     "text": [
      "[[0. 0. 0. 0.]\n",
      " [0. 0. 0. 0.]\n",
      " [0. 0. 0. 0.]\n",
      " [0. 0. 0. 0.]\n",
      " [0. 0. 0. 0.]\n",
      " [0. 0. 0. 0.]\n",
      " [0. 0. 0. 0.]\n",
      " [0. 0. 0. 0.]\n",
      " [0. 0. 0. 0.]\n",
      " [0. 0. 0. 0.]\n",
      " [0. 0. 0. 0.]\n",
      " [0. 0. 0. 0.]\n",
      " [0. 0. 0. 0.]\n",
      " [0. 0. 0. 0.]\n",
      " [0. 0. 0. 0.]\n",
      " [0. 0. 0. 0.]]\n"
     ]
    }
   ],
   "source": [
    "q_table = np.zeros((state_space_size,action_space_size))\n",
    "print(q_table)"
   ]
  },
  {
   "cell_type": "code",
   "execution_count": 5,
   "metadata": {
    "executionInfo": {
     "elapsed": 6,
     "status": "ok",
     "timestamp": 1666887574171,
     "user": {
      "displayName": "Alexander Lopez",
      "userId": "12846649391182977718"
     },
     "user_tz": 300
    },
    "id": "YQHIMgOIjTfV"
   },
   "outputs": [],
   "source": [
    "num_episodes = 10000\n",
    "max_step_per_episode = 100\n",
    "\n",
    "learning_rate = 0.1\n",
    "discount_rate= 0.9\n",
    "\n",
    "exploration_rate = 0.1\n",
    "max_exploration_rate = 1\n",
    "min_exploration_rate = 0.01\n",
    "exploration_decay_rate = 0.01"
   ]
  },
  {
   "cell_type": "code",
   "execution_count": 6,
   "metadata": {
    "executionInfo": {
     "elapsed": 7,
     "status": "ok",
     "timestamp": 1666887574172,
     "user": {
      "displayName": "Alexander Lopez",
      "userId": "12846649391182977718"
     },
     "user_tz": 300
    },
    "id": "RUdROD90j3kx"
   },
   "outputs": [],
   "source": [
    "reward_all_episodes = []"
   ]
  },
  {
   "cell_type": "code",
   "execution_count": 7,
   "metadata": {
    "executionInfo": {
     "elapsed": 6375,
     "status": "ok",
     "timestamp": 1666887580540,
     "user": {
      "displayName": "Alexander Lopez",
      "userId": "12846649391182977718"
     },
     "user_tz": 300
    },
    "id": "I4id83KhkFlt"
   },
   "outputs": [],
   "source": [
    "for episode in range(num_episodes):\n",
    "\n",
    "  state = env.reset()\n",
    "\n",
    "  done = False\n",
    "  rewards_current_episode = 0\n",
    "\n",
    "  for step in range(max_step_per_episode):\n",
    "\n",
    "    exploration_rate_threshold = random.uniform(0,1)\n",
    "    if exploration_rate_threshold > exploration_rate:\n",
    "      action = np.argmax(q_table[state,:])\n",
    "    else:\n",
    "      action = env.action_space.sample()\n",
    "\n",
    "    new_state, reward, done, info = env.step(action)\n",
    "\n",
    "    q_table[state, action] = (1-learning_rate)*q_table[state,action] + learning_rate*(reward + discount_rate*np.max(q_table[new_state, :]))\n",
    "\n",
    "    state = new_state\n",
    "    rewards_current_episode += reward\n",
    "\n",
    "    if done == True:\n",
    "      break\n",
    "\n",
    "  exploration_rate = min_exploration_rate + (max_exploration_rate - min_exploration_rate)*np.exp(-exploration_decay_rate*episode)\n",
    "\n",
    "  reward_all_episodes.append(rewards_current_episode)"
   ]
  },
  {
   "cell_type": "code",
   "execution_count": 8,
   "metadata": {
    "colab": {
     "base_uri": "https://localhost:8080/"
    },
    "executionInfo": {
     "elapsed": 12,
     "status": "ok",
     "timestamp": 1666887580540,
     "user": {
      "displayName": "Alexander Lopez",
      "userId": "12846649391182977718"
     },
     "user_tz": 300
    },
    "id": "q0uesz_6d8GP",
    "outputId": "46c9a7ef-340c-4f65-be5c-b298612a3fb5"
   },
   "outputs": [
    {
     "name": "stdout",
     "output_type": "stream",
     "text": [
      "********* Inicio ********\n",
      "\n",
      "1000 :  0.0\n",
      "2000 :  0.0\n",
      "3000 :  0.0\n",
      "4000 :  0.0\n",
      "5000 :  0.0\n",
      "6000 :  0.0\n",
      "7000 :  0.0\n",
      "8000 :  0.0\n",
      "9000 :  0.0\n",
      "10000 :  0.0\n",
      "********* Tabla ********\n",
      "\n",
      "[[0. 0. 0. 0.]\n",
      " [0. 0. 0. 0.]\n",
      " [0. 0. 0. 0.]\n",
      " [0. 0. 0. 0.]\n",
      " [0. 0. 0. 0.]\n",
      " [0. 0. 0. 0.]\n",
      " [0. 0. 0. 0.]\n",
      " [0. 0. 0. 0.]\n",
      " [0. 0. 0. 0.]\n",
      " [0. 0. 0. 0.]\n",
      " [0. 0. 0. 0.]\n",
      " [0. 0. 0. 0.]\n",
      " [0. 0. 0. 0.]\n",
      " [0. 0. 0. 0.]\n",
      " [0. 0. 0. 0.]\n",
      " [0. 0. 0. 0.]]\n"
     ]
    }
   ],
   "source": [
    "rewards_per_thosand_episodes = np.split(np.array(reward_all_episodes),num_episodes/1000)\n",
    "count = 1000\n",
    "print(\"********* Inicio ********\\n\")\n",
    "for r in rewards_per_thosand_episodes:\n",
    "  print(count, \": \",str(sum(r/1000)))\n",
    "  count += 1000\n",
    "\n",
    "print(\"********* Tabla ********\\n\")\n",
    "print(q_table)"
   ]
  },
  {
   "cell_type": "markdown",
   "metadata": {
    "id": "hqgP1IbffVkP"
   },
   "source": [
    "Es momento de probar nuestros resultados:"
   ]
  },
  {
   "cell_type": "code",
   "execution_count": 10,
   "metadata": {
    "colab": {
     "base_uri": "https://localhost:8080/"
    },
    "executionInfo": {
     "elapsed": 27134,
     "status": "ok",
     "timestamp": 1666887617413,
     "user": {
      "displayName": "Alexander Lopez",
      "userId": "12846649391182977718"
     },
     "user_tz": 300
    },
    "id": "HneLUw-pfVFo",
    "outputId": "0ea6e757-1f39-4ae1-ddf5-861896e5d946"
   },
   "outputs": [
    {
     "name": "stdout",
     "output_type": "stream",
     "text": [
      "Failed, it fall into a hole\n"
     ]
    }
   ],
   "source": [
    "for episode in range(3):\n",
    "  state = env.reset()\n",
    "  done = False\n",
    "  print(\"Episode: \"+str(episode+1))\n",
    "  time.sleep(1)\n",
    "\n",
    "  for step in range(max_step_per_episode):\n",
    "    clear_output(wait=True)\n",
    "    time.sleep(0.3)\n",
    "\n",
    "    action = np.argmax(q_table[state,:]) # For the state we are, all posible actions\n",
    "    new_state, reward, done, info = env.step(action)\n",
    "    print(new_state)\n",
    "\n",
    "    if done:\n",
    "      clear_output(wait=True)\n",
    "      if reward == 1:\n",
    "        print(\"Goal reached\")\n",
    "        time.sleep(3)\n",
    "      else:\n",
    "        print(\"Failed, it fall into a hole\")\n",
    "        time.sleep(3)\n",
    "      \n",
    "      clear_output(wait=True)\n",
    "      break\n",
    "\n",
    "    state = new_state\n",
    "  \n",
    "env.close()\n"
   ]
  }
 ],
 "metadata": {
  "colab": {
   "collapsed_sections": [],
   "provenance": [
    {
     "file_id": "1-5xxPkoYpuX-0Lz9WGZoaM6lUYi7fqSo",
     "timestamp": 1639003290288
    }
   ]
  },
  "kernelspec": {
   "display_name": "Python 3 (ipykernel)",
   "language": "python",
   "name": "python3"
  },
  "language_info": {
   "codemirror_mode": {
    "name": "ipython",
    "version": 3
   },
   "file_extension": ".py",
   "mimetype": "text/x-python",
   "name": "python",
   "nbconvert_exporter": "python",
   "pygments_lexer": "ipython3",
   "version": "3.8.10"
  }
 },
 "nbformat": 4,
 "nbformat_minor": 1
}
